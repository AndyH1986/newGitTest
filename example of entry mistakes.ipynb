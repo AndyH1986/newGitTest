{
 "cells": [
  {
   "cell_type": "code",
   "execution_count": 1,
   "metadata": {},
   "outputs": [],
   "source": [
    "import numpy as np\n",
    "import pandas as pd"
   ]
  },
  {
   "cell_type": "code",
   "execution_count": null,
   "metadata": {},
   "outputs": [],
   "source": [
    "# load data\n",
    "df = pd.read_excel(r'your path/filename.xlsx')"
   ]
  },
  {
   "cell_type": "code",
   "execution_count": 3,
   "metadata": {},
   "outputs": [],
   "source": [
    "# define relevant columns  = part number, production supplier,  destribution supplier + \n",
    "rel_cols = list(df.columns[[27, 3, 5]]) + list(df.columns[44:49]) + list(df.columns[50:52])\n",
    "\n",
    "# define columns for relevant infos from colleagues\n",
    "rel_cols_info_lis = list(df.columns[[27]]) + list(df.columns[44:49]) + list(df.columns[50:52])\n",
    "\n",
    "# create a df with the relevant columns\n",
    "df2 = df[rel_cols].astype(str).replace(np.nan, '')\n",
    "\n",
    "# concatenate a string for identification purposes\n",
    "df['concatenate'] = df2[rel_cols].agg('-'.join, axis = 1)\n",
    "df['concatenate infos LI'] = df2[rel_cols_info_lis].agg('-'.join, axis = 1)\n",
    "\n",
    "# list all relavent part numbers that occur muliple times \n",
    "snr_unique_gr_2 = df[(df['# part numbers']>1)\n",
    "                     & (df.iloc[:, 53].str.contains('EMM'))\n",
    "                     | (df.iloc[:, 53].str.contains('EMO'))\n",
    "                    ]['part numbers'].unique()\n",
    "\n",
    "# iterate through list, and check if there is only one prod-supplier / dist supplier for each partnumber\n",
    "# if not, check, if there is more than one row for a part number and for one supplier\n",
    "df['entry mistake'] = np.nan\n",
    "for snr in snr_unique_gr_2:\n",
    "    # df for each part number\n",
    "    df_check = df[df['part number'] == snr][rel_cols]\n",
    "    \n",
    "    anz_pl = len(set(df_check['Prod.-Supplier'].to_list()))\n",
    "    anz_bl = len(set(df_check['Dist.-Supplier'].to_list()))\n",
    "    if anz_pl == 1 and anz_bl == 1:\n",
    "        anz = len(set(df[df['part number'] == snr]['concatenate'].to_list()))\n",
    "        if anz > 1:\n",
    "            df.loc[df['part number'] == snr, 'entry mistake'] = 'x'\n",
    "    else:\n",
    "        # list of all prod suppliers / dist suppliers for a part number\n",
    "        lst_pl = list(set(df[df['part number'] == snr]['Prod.-Supplier'].to_list()))\n",
    "        lst_bl = list(set(df[df['part number'] == snr]['Dist.-Supplier'].to_list()))\n",
    "        \n",
    "        for l in lst_pl:\n",
    "            df_pl = list(set(df[(df['part number'] == snr) & (df['Prod.-Supplier'] == l)]['concatenate infos LI'].to_list()))\n",
    "            if len(df_pl)> 1:\n",
    "                df.loc[df['part number'] == snr, 'entry mistake'] = 'x'\n",
    "        \n",
    "        for l in lst_bl:\n",
    "            df_bl = list(set(df[(df['part number'] == snr) & (df['Dist.-Supplier'] == l)]['concatenate infos LI'].to_list()))\n",
    "            if len(df_bl)> 1:\n",
    "                df.loc[df['part number'] == snr, 'entry mistake'] = 'x'"
   ]
  },
  {
   "cell_type": "code",
   "execution_count": 4,
   "metadata": {},
   "outputs": [
    {
     "data": {
      "text/plain": [
       "array([9443161, 7921852, 1541420, 1541423, 1541841, 1541842, 1541843,\n",
       "       9829276, 9445666, 9445667, 1539644, 9446868, 9446869, 9829296,\n",
       "       8536349, 8536350, 8536347, 8536348, 8536351, 9829772, 9829773],\n",
       "      dtype=object)"
      ]
     },
     "execution_count": 4,
     "metadata": {},
     "output_type": "execute_result"
    }
   ],
   "source": [
    "# return all the part numbers that have entry mistakes in the list\n",
    "df[df['entry mistake'].notna()][rel_cols + ['entry mistake']]['part number'].unique()"
   ]
  },
  {
   "cell_type": "code",
   "execution_count": null,
   "metadata": {},
   "outputs": [],
   "source": [
    "# create excel file\n",
    "df.to_excel(r'your path/filename.xlsx')"
   ]
  },
  {
   "cell_type": "code",
   "execution_count": null,
   "metadata": {},
   "outputs": [],
   "source": []
  },
  {
   "cell_type": "code",
   "execution_count": null,
   "metadata": {},
   "outputs": [],
   "source": []
  },
  {
   "cell_type": "code",
   "execution_count": null,
   "metadata": {},
   "outputs": [],
   "source": []
  },
  {
   "cell_type": "code",
   "execution_count": null,
   "metadata": {},
   "outputs": [],
   "source": []
  },
  {
   "cell_type": "code",
   "execution_count": null,
   "metadata": {},
   "outputs": [],
   "source": []
  },
  {
   "cell_type": "code",
   "execution_count": null,
   "metadata": {},
   "outputs": [],
   "source": []
  },
  {
   "cell_type": "code",
   "execution_count": null,
   "metadata": {},
   "outputs": [],
   "source": []
  }
 ],
 "metadata": {
  "kernelspec": {
   "display_name": "Python 3",
   "language": "python",
   "name": "python3"
  },
  "language_info": {
   "codemirror_mode": {
    "name": "ipython",
    "version": 3
   },
   "file_extension": ".py",
   "mimetype": "text/x-python",
   "name": "python",
   "nbconvert_exporter": "python",
   "pygments_lexer": "ipython3",
   "version": "3.7.1"
  }
 },
 "nbformat": 4,
 "nbformat_minor": 4
}
